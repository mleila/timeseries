{
 "cells": [
  {
   "cell_type": "markdown",
   "metadata": {},
   "source": [
    "# Introduction\n",
    "\n",
    "I spent sometime researching some interesting datasets for the exploration of timseries modelling and analysis. In this notebook, I will walk you through these datasets."
   ]
  },
  {
   "cell_type": "code",
   "execution_count": 1,
   "metadata": {},
   "outputs": [],
   "source": [
    "%load_ext autoreload\n",
    "%autoreload 2"
   ]
  },
  {
   "cell_type": "code",
   "execution_count": 15,
   "metadata": {},
   "outputs": [],
   "source": [
    "import pandas as pd\n",
    "\n",
    "from ts import data\n",
    "from ts.viz import *"
   ]
  },
  {
   "cell_type": "markdown",
   "metadata": {},
   "source": [
    "# Global Temperatures Dataset\n",
    "\n",
    "**Source**: [Github](https://github.com/datasets/global-temp)\n",
    "\n",
    "**Description**: Global Temperature Time Series (monthly and annual)\n",
    "\n",
    "**Ideas**: Simple dataste, useful to show seanoality (Annual temp fluctuations) vs trend (Global Warming)."
   ]
  },
  {
   "cell_type": "code",
   "execution_count": 36,
   "metadata": {},
   "outputs": [],
   "source": [
    "df = data.load_globaltemp(frmt='pandas', mode='monthly')"
   ]
  },
  {
   "cell_type": "code",
   "execution_count": 37,
   "metadata": {},
   "outputs": [
    {
     "data": {
      "text/html": [
       "<div>\n",
       "<style scoped>\n",
       "    .dataframe tbody tr th:only-of-type {\n",
       "        vertical-align: middle;\n",
       "    }\n",
       "\n",
       "    .dataframe tbody tr th {\n",
       "        vertical-align: top;\n",
       "    }\n",
       "\n",
       "    .dataframe thead th {\n",
       "        text-align: right;\n",
       "    }\n",
       "</style>\n",
       "<table border=\"1\" class=\"dataframe\">\n",
       "  <thead>\n",
       "    <tr style=\"text-align: right;\">\n",
       "      <th></th>\n",
       "      <th>Source</th>\n",
       "      <th>Date</th>\n",
       "      <th>Mean</th>\n",
       "    </tr>\n",
       "  </thead>\n",
       "  <tbody>\n",
       "    <tr>\n",
       "      <th>0</th>\n",
       "      <td>GCAG</td>\n",
       "      <td>2016-12</td>\n",
       "      <td>0.7895</td>\n",
       "    </tr>\n",
       "    <tr>\n",
       "      <th>1</th>\n",
       "      <td>GISTEMP</td>\n",
       "      <td>2016-12</td>\n",
       "      <td>0.8100</td>\n",
       "    </tr>\n",
       "    <tr>\n",
       "      <th>2</th>\n",
       "      <td>GCAG</td>\n",
       "      <td>2016-11</td>\n",
       "      <td>0.7504</td>\n",
       "    </tr>\n",
       "    <tr>\n",
       "      <th>3</th>\n",
       "      <td>GISTEMP</td>\n",
       "      <td>2016-11</td>\n",
       "      <td>0.9300</td>\n",
       "    </tr>\n",
       "    <tr>\n",
       "      <th>4</th>\n",
       "      <td>GCAG</td>\n",
       "      <td>2016-10</td>\n",
       "      <td>0.7292</td>\n",
       "    </tr>\n",
       "  </tbody>\n",
       "</table>\n",
       "</div>"
      ],
      "text/plain": [
       "    Source     Date    Mean\n",
       "0     GCAG  2016-12  0.7895\n",
       "1  GISTEMP  2016-12  0.8100\n",
       "2     GCAG  2016-11  0.7504\n",
       "3  GISTEMP  2016-11  0.9300\n",
       "4     GCAG  2016-10  0.7292"
      ]
     },
     "execution_count": 37,
     "metadata": {},
     "output_type": "execute_result"
    }
   ],
   "source": [
    "df.head()"
   ]
  },
  {
   "cell_type": "markdown",
   "metadata": {},
   "source": [
    "# Trump Tweets\n",
    "\n",
    "**Source**: [Kaggle](https://www.kaggle.com/austinreese/trump-tweets)\n",
    "\n",
    "**Description**: Tweets by Donald Trump from May 2009 to June 2020\n",
    "\n",
    "**Ideas**: Could be useful to explore any cyclical patterns (maybe using DFT), or simply visualize to see how the tweeting frequency changed overtime. My hypothesis that this is non-stationary timeseries, as the tweeting pattern of Donald Trump were likely different before and after the election."
   ]
  },
  {
   "cell_type": "code",
   "execution_count": 38,
   "metadata": {},
   "outputs": [
    {
     "name": "stdout",
     "output_type": "stream",
     "text": [
      "2009-05-04 13:54:25 2020-06-17 21:28:52\n",
      "<class 'pandas.core.frame.DataFrame'>\n",
      "RangeIndex: 43352 entries, 0 to 43351\n",
      "Data columns (total 8 columns):\n",
      " #   Column     Non-Null Count  Dtype \n",
      "---  ------     --------------  ----- \n",
      " 0   id         43352 non-null  int64 \n",
      " 1   link       43352 non-null  object\n",
      " 2   content    43352 non-null  object\n",
      " 3   date       43352 non-null  object\n",
      " 4   retweets   43352 non-null  int64 \n",
      " 5   favorites  43352 non-null  int64 \n",
      " 6   mentions   20386 non-null  object\n",
      " 7   hashtags   5583 non-null   object\n",
      "dtypes: int64(3), object(5)\n",
      "memory usage: 2.6+ MB\n"
     ]
    }
   ],
   "source": [
    "df = data.load_trumptweets()\n",
    "print(df.date.min(), df.date.max())\n",
    "df.info()"
   ]
  },
  {
   "cell_type": "markdown",
   "metadata": {},
   "source": [
    "# MotionSense Dataset: Sensor Based Human Activity and Attribute Recognition\n",
    "\n",
    "**Source**: [Kaggle](https://www.kaggle.com/malekzadeh/motionsense-dataset)\n",
    "\n",
    "**Description**: This dataset includes time-series data generated by accelerometer and gyroscope sensors (attitude, gravity, userAcceleration, and rotationRate). It is collected with an iPhone 6s kept in the participant's front pocket using SensingKit which collects information from Core Motion framework on iOS devices. A total of 24 participants in a range of gender, age, weight, and height performed 6 activities in 15 trials in the same environment and conditions: downstairs, upstairs, walking, jogging, sitting, and standing. With this dataset, we aim to look for personal attributes fingerprints in time-series of sensor data, i.e. attribute-specific patterns that can be used to infer gender or personality of the data subjects in addition to their activities.\n",
    "\n",
    "**Ideas**: Could be useful to explore for experimenting with machine learning models"
   ]
  },
  {
   "cell_type": "code",
   "execution_count": 39,
   "metadata": {},
   "outputs": [
    {
     "name": "stdout",
     "output_type": "stream",
     "text": [
      "Help on function load_motionsense in module ts.data:\n",
      "\n",
      "load_motionsense(frmt: str = 'pandas', device: str = None, subject: int = None, subjects_info: bool = False)\n",
      "    Loads subsets of the Motionsense dataset. You can either load the subject information datset, which\n",
      "    provides metadata about the subjects, or the data for a particular device and subject pair. Here is a\n",
      "    list of devices:\n",
      "    \n",
      "    - dws_1\n",
      "    - dws_2\n",
      "    - dws_11\n",
      "    - jog_9\n",
      "    - jog_16\n",
      "    _ sit_5\n",
      "    _ sit_13\n",
      "    - std_6\n",
      "    - std_14\n",
      "    - ups_3\n",
      "    - ups_4\n",
      "    - ups_12\n",
      "    _ wlk_7\n",
      "    - wlk_8\n",
      "    - wlk_15\n",
      "    \n",
      "    There are 24 subject.\n",
      "    \n",
      "    Arguments:\n",
      "    - frmt: returned data structure (pandas or spark dataframes)\n",
      "    - device: device name from the above list\n",
      "    - subject: subject id (1 to 24) \n",
      "    - subjects_info: Boolean, if true, it will load subjects metadata and ignore the device and subject arguments\n",
      "    \n",
      "    Return:\n",
      "    - Path, Pandas dataframe or Spark dataframe\n",
      "\n"
     ]
    }
   ],
   "source": [
    "help(data.load_motionsense)"
   ]
  },
  {
   "cell_type": "markdown",
   "metadata": {},
   "source": [
    "Load data for a specific device and subject"
   ]
  },
  {
   "cell_type": "code",
   "execution_count": 40,
   "metadata": {},
   "outputs": [
    {
     "data": {
      "text/html": [
       "<div>\n",
       "<style scoped>\n",
       "    .dataframe tbody tr th:only-of-type {\n",
       "        vertical-align: middle;\n",
       "    }\n",
       "\n",
       "    .dataframe tbody tr th {\n",
       "        vertical-align: top;\n",
       "    }\n",
       "\n",
       "    .dataframe thead th {\n",
       "        text-align: right;\n",
       "    }\n",
       "</style>\n",
       "<table border=\"1\" class=\"dataframe\">\n",
       "  <thead>\n",
       "    <tr style=\"text-align: right;\">\n",
       "      <th></th>\n",
       "      <th>Unnamed: 0</th>\n",
       "      <th>attitude.roll</th>\n",
       "      <th>attitude.pitch</th>\n",
       "      <th>attitude.yaw</th>\n",
       "      <th>gravity.x</th>\n",
       "      <th>gravity.y</th>\n",
       "      <th>gravity.z</th>\n",
       "      <th>rotationRate.x</th>\n",
       "      <th>rotationRate.y</th>\n",
       "      <th>rotationRate.z</th>\n",
       "      <th>userAcceleration.x</th>\n",
       "      <th>userAcceleration.y</th>\n",
       "      <th>userAcceleration.z</th>\n",
       "    </tr>\n",
       "  </thead>\n",
       "  <tbody>\n",
       "    <tr>\n",
       "      <th>0</th>\n",
       "      <td>0</td>\n",
       "      <td>1.306530</td>\n",
       "      <td>-1.118072</td>\n",
       "      <td>0.739332</td>\n",
       "      <td>0.422231</td>\n",
       "      <td>0.899259</td>\n",
       "      <td>-0.114253</td>\n",
       "      <td>-1.752874</td>\n",
       "      <td>2.553555</td>\n",
       "      <td>0.768259</td>\n",
       "      <td>0.660883</td>\n",
       "      <td>0.203051</td>\n",
       "      <td>-0.192570</td>\n",
       "    </tr>\n",
       "    <tr>\n",
       "      <th>1</th>\n",
       "      <td>1</td>\n",
       "      <td>1.423767</td>\n",
       "      <td>-1.116880</td>\n",
       "      <td>0.839693</td>\n",
       "      <td>0.433757</td>\n",
       "      <td>0.898737</td>\n",
       "      <td>-0.064239</td>\n",
       "      <td>-2.256292</td>\n",
       "      <td>0.723740</td>\n",
       "      <td>0.323775</td>\n",
       "      <td>0.130238</td>\n",
       "      <td>-0.259348</td>\n",
       "      <td>-0.106828</td>\n",
       "    </tr>\n",
       "  </tbody>\n",
       "</table>\n",
       "</div>"
      ],
      "text/plain": [
       "   Unnamed: 0  attitude.roll  attitude.pitch  attitude.yaw  gravity.x  \\\n",
       "0           0       1.306530       -1.118072      0.739332   0.422231   \n",
       "1           1       1.423767       -1.116880      0.839693   0.433757   \n",
       "\n",
       "   gravity.y  gravity.z  rotationRate.x  rotationRate.y  rotationRate.z  \\\n",
       "0   0.899259  -0.114253       -1.752874        2.553555        0.768259   \n",
       "1   0.898737  -0.064239       -2.256292        0.723740        0.323775   \n",
       "\n",
       "   userAcceleration.x  userAcceleration.y  userAcceleration.z  \n",
       "0            0.660883            0.203051           -0.192570  \n",
       "1            0.130238           -0.259348           -0.106828  "
      ]
     },
     "execution_count": 40,
     "metadata": {},
     "output_type": "execute_result"
    }
   ],
   "source": [
    "df = data.load_motionsense(device='wlk_7', subject=2, frmt='pandas')\n",
    "df.head(2)"
   ]
  },
  {
   "cell_type": "markdown",
   "metadata": {},
   "source": [
    "Load meta data about subjects"
   ]
  },
  {
   "cell_type": "code",
   "execution_count": 41,
   "metadata": {},
   "outputs": [
    {
     "data": {
      "text/html": [
       "<div>\n",
       "<style scoped>\n",
       "    .dataframe tbody tr th:only-of-type {\n",
       "        vertical-align: middle;\n",
       "    }\n",
       "\n",
       "    .dataframe tbody tr th {\n",
       "        vertical-align: top;\n",
       "    }\n",
       "\n",
       "    .dataframe thead th {\n",
       "        text-align: right;\n",
       "    }\n",
       "</style>\n",
       "<table border=\"1\" class=\"dataframe\">\n",
       "  <thead>\n",
       "    <tr style=\"text-align: right;\">\n",
       "      <th></th>\n",
       "      <th>code</th>\n",
       "      <th>weight</th>\n",
       "      <th>height</th>\n",
       "      <th>age</th>\n",
       "      <th>gender</th>\n",
       "    </tr>\n",
       "  </thead>\n",
       "  <tbody>\n",
       "    <tr>\n",
       "      <th>0</th>\n",
       "      <td>1</td>\n",
       "      <td>102</td>\n",
       "      <td>188</td>\n",
       "      <td>46</td>\n",
       "      <td>1</td>\n",
       "    </tr>\n",
       "    <tr>\n",
       "      <th>1</th>\n",
       "      <td>2</td>\n",
       "      <td>72</td>\n",
       "      <td>180</td>\n",
       "      <td>28</td>\n",
       "      <td>1</td>\n",
       "    </tr>\n",
       "  </tbody>\n",
       "</table>\n",
       "</div>"
      ],
      "text/plain": [
       "   code  weight  height  age  gender\n",
       "0     1     102     188   46       1\n",
       "1     2      72     180   28       1"
      ]
     },
     "execution_count": 41,
     "metadata": {},
     "output_type": "execute_result"
    }
   ],
   "source": [
    "df = data.load_motionsense(subjects_info=True)\n",
    "df.head(2)"
   ]
  }
 ],
 "metadata": {
  "kernelspec": {
   "display_name": "timeseries-env",
   "language": "python",
   "name": "timeseries-env"
  },
  "language_info": {
   "codemirror_mode": {
    "name": "ipython",
    "version": 3
   },
   "file_extension": ".py",
   "mimetype": "text/x-python",
   "name": "python",
   "nbconvert_exporter": "python",
   "pygments_lexer": "ipython3",
   "version": "3.7.2"
  },
  "toc": {
   "base_numbering": 1,
   "nav_menu": {},
   "number_sections": true,
   "sideBar": true,
   "skip_h1_title": false,
   "title_cell": "Table of Contents",
   "title_sidebar": "Contents",
   "toc_cell": false,
   "toc_position": {},
   "toc_section_display": true,
   "toc_window_display": false
  }
 },
 "nbformat": 4,
 "nbformat_minor": 2
}
